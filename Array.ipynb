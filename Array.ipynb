{
 "cells": [
  {
   "cell_type": "markdown",
   "id": "ee5410f5-fb11-44d5-9cb1-daf42c25e9de",
   "metadata": {},
   "source": [
    "## Introduction to Arrays\n",
    "Array is one of the fundamental data structures and is used extensively in software development. Arrays provide a means of storing and organizing data in a systematic, computer-memory-efficient manner.\n",
    "\n",
    "Essentially, an array is a collection of elements, each identified by an array index. The array elements are stored in contiguous memory locations, meaning they are stored in a sequence."
   ]
  },
  {
   "cell_type": "markdown",
   "id": "2aa3ceaf-54a3-4065-a136-17ef6522ed7b",
   "metadata": {},
   "source": [
    "![\"Array\"](images/array.svg)"
   ]
  },
  {
   "cell_type": "markdown",
   "id": "9d9d705a-7162-4794-97b3-362ac92bb20a",
   "metadata": {},
   "source": [
    "## Problem 1: Running Sum of 1d Array (easy)\n",
    "\n",
    "**Problem Statement**\n",
    "Given a one-dimensional array of integers, create a new array that represents the running sum of the original array.\n",
    "\n",
    "The running sum at position i in the new array is calculated as the sum of all the numbers in the original array from the 0th index up to the i-th index (inclusive). Formally, the resulting array should be computed as follows: result[i] = sum(nums[0] + nums[1] + ... + nums[i]) for each i from 0 to the length of the array minus one."
   ]
  },
  {
   "cell_type": "markdown",
   "id": "9b9c1a45-822c-4cea-9095-6c10689f13dc",
   "metadata": {},
   "source": [
    "Example 1\n",
    "\n",
    "Input: [2, 3, 5, 1, 6]\n",
    "Expected Output: [2, 5, 10, 11, 17]\n",
    "Justification:\n",
    "For i=0: 2\n",
    "For i=1: 2 + 3 = 5\n",
    "For i=2: 2 + 3 + 5 = 10\n",
    "For i=3: 2 + 3 + 5 + 1 = 11\n",
    "For i=4: 2 + 3 + 5 + 1 + 6 = 17\n",
    "\n",
    "Example 2\n",
    "\n",
    "Input: [1, 1, 1, 1, 1]\n",
    "Expected Output: [1, 2, 3, 4, 5]\n",
    "Justification: Each element is simply the sum of all preceding elements plus the current element.\n",
    "Example 3\n",
    "\n",
    "Input: [-1, 2, -3, 4, -5]\n",
    "Expected Output: [-1, 1, -2, 2, -3]\n",
    "Justification: Negative numbers are also summed up in the same manner as positive ones."
   ]
  },
  {
   "cell_type": "markdown",
   "id": "059859de-8313-4c86-a76a-903d1a7bb741",
   "metadata": {},
   "source": [
    "**Solution**  \n",
    "To find a solution of this problem, we can employ a straightforward approach. Starting from the first element of the input array, we can traverse through each element, cumulatively summing up the values as we proceed and placing the running total at the corresponding index in the resulting array."
   ]
  },
  {
   "cell_type": "markdown",
   "id": "6ff843ce-69aa-4208-a5f5-4ac754c477b5",
   "metadata": {},
   "source": [
    "![Array_1](images/array_1.svg)"
   ]
  },
  {
   "cell_type": "markdown",
   "id": "0ae29a05-c94f-4881-830b-43044dc1549f",
   "metadata": {},
   "source": [
    "Initially, the first element of the output array is the same as the input array since there are no preceding elements to add. From the second element onwards, every element in the output array is the sum of the current input element and the previous element in the output array. This is because the previous element in the output array already contains the cumulative sum of all the previous elements in the input array.\n",
    "\n",
    "Here is the algorithm broken down into steps:\n",
    "\n",
    "1.\tInitialize a Variable for Running Sum: Start by setting a variable (let's call it runningSum) to 0. This variable will keep track of the cumulative sum as you iterate through the array.\n",
    "\n",
    "2.\tIterate Through the Array: Loop through each element of the array. You can use a standard for loop for this purpose.\n",
    "\n",
    "3.\tUpdate Running Sum: In each iteration, add the current element's value to runningSum. This step updates the running total with the value of the current element.\n",
    "\n",
    "4.\tReplace Current Element: After updating the runningSum, replace the current element in the array with the value of runningSum. This effectively changes each element to the sum of all preceding elements including itself.\n",
    "\n",
    "5.\tContinue Until the End of the Array: Continue steps 3 and 4 for each element in the array. By the end of the loop, each array element will have been replaced with the cumulative sum up to that point.\n",
    "\n",
    "6.\tReturn the Modified Array: After completing the iteration through the array, return the modified array. This array now contains the running sums instead of the original values.\n",
    "\n",
    "7.\tThis approach guarantees that we traverse through the input array only once, summing up the elements as we go along and avoiding recalculating any previously computed sums. Thus, it is computationally efficient while also being memory-efficient, as we don't store intermediate results in additional data structures.\n"
   ]
  },
  {
   "cell_type": "markdown",
   "id": "2e30398c-a079-4756-8626-09fa997c4d33",
   "metadata": {},
   "source": [
    "**Algorithm Walkthrough**  \n",
    "Let’s consider an example input array [2, 3, 5, 1, 6] to understand how the algorithm works:\n",
    "\n",
    "Initialize the resulting array with the same length as the input array. Let's say result[].\n",
    "Set result[0] equal to nums[0] since the first element does not have any previous elements to add. So, result = [2, _, _, _, _]\n",
    "For i from 1 to len(nums)-1:\n",
    "Set result[i] = result[i-1] + nums[i]. \n",
    "\n",
    "1.\tFor i=1: result[1] = result[0] + nums[1] = 2 + 3 = 5 so result = [2, 5, _, _, _]\n",
    "2.\tFor i=2: result[2] = result[1] + nums[2] = 5 + 5 = 10 so result = [2, 5, 10, _, _]\n",
    "3.\tFor i=3: result[3] = result[2] + nums[3] = 10 + 1 = 11 so result = [2, 5, 10, 11, _]\n",
    "4.\tFor i=4: result[4] = result[3] + nums[4] = 11 + 6 = 17 so result = [2, 5, 10, 11, 17]\n",
    "\n",
    "Return the result array [2, 5, 10, 11, 17]"
   ]
  },
  {
   "cell_type": "code",
   "execution_count": 1,
   "id": "078cadfd-5794-47ae-9fd6-af2b86706f2a",
   "metadata": {},
   "outputs": [
    {
     "name": "stdout",
     "output_type": "stream",
     "text": [
      "[2, 5, 10, 11, 17]\n",
      "[1, 2, 3, 4, 5]\n",
      "[-1, 1, -2, 2, -3]\n"
     ]
    }
   ],
   "source": [
    "class Solution:\n",
    "    def runningSum(self, nums):\n",
    "        # Create a list to store the running sum\n",
    "        result = [0] * len(nums)  # Initialize a list of the same length as nums filled with zeros\n",
    "        result[0] = nums[0]  # First element is the same as the first element in nums\n",
    "        \n",
    "        # Iterate over the elements of nums starting from the second element\n",
    "        for i in range(1, len(nums)):\n",
    "            # Calculate the running sum by adding the current number to the previous sum\n",
    "            result[i] = result[i-1] + nums[i]\n",
    "        \n",
    "        return result\n",
    "    \n",
    "# Test the algorithm with example inputs\n",
    "solution = Solution()\n",
    "print(solution.runningSum([2, 3, 5, 1, 6]))  # Output: [2, 5, 10, 11, 17]\n",
    "print(solution.runningSum([1, 1, 1, 1, 1]))  # Output: [1, 2, 3, 4, 5]\n",
    "print(solution.runningSum([-1, 2, -3, 4, -5]))  # Output: [-1, 1, -2, 2, -3]"
   ]
  },
  {
   "cell_type": "markdown",
   "id": "fbf67da7-0d8e-48c6-8bf7-3f88cb289fa6",
   "metadata": {},
   "source": [
    "Certainly! Here's the content formatted in Markdown:\n",
    "\n",
    "Time Complexity: \n",
    "- The algorithm essentially involves a single loop that iterates through the input array to compute the running sum. Here's the breakdown:\n",
    "  - **O(n)**: We iterate through all \\( n \\) elements of the input array exactly once. Inside the loop, we perform a constant amount of work (a sum and an assignment). Hence, the time complexity is linear.\n",
    "\n",
    "Space Complexity: \n",
    "- The algorithm uses a constant amount of extra space. The result array does not count towards the space complexity since it's the expected output. However, no additional data structures grow with the input size, meaning that the algorithm uses a constant amount of additional memory.\n",
    "  - **O(1)**: The algorithm's space complexity is constant.\n",
    "\n",
    "In summary:\n",
    "\n",
    "- **Time Complexity:** \\( O(n) \\)\n",
    "- **Space Complexity:** \\( O(1) \\)\n",
    "\n",
    "The algorithm is quite efficient, as it computes the running sum in a single pass through the input and does not use additional memory that grows with input size. This means it can handle large input arrays effectively, provided they can be stored in memory."
   ]
  },
  {
   "cell_type": "code",
   "execution_count": null,
   "id": "28472d66-61b8-4d47-9493-84472bc14dc9",
   "metadata": {},
   "outputs": [],
   "source": []
  }
 ],
 "metadata": {
  "kernelspec": {
   "display_name": "Python 3 (ipykernel)",
   "language": "python",
   "name": "python3"
  },
  "language_info": {
   "codemirror_mode": {
    "name": "ipython",
    "version": 3
   },
   "file_extension": ".py",
   "mimetype": "text/x-python",
   "name": "python",
   "nbconvert_exporter": "python",
   "pygments_lexer": "ipython3",
   "version": "3.11.7"
  },
  "widgets": {
   "application/vnd.jupyter.widget-state+json": {
    "state": {},
    "version_major": 2,
    "version_minor": 0
   }
  }
 },
 "nbformat": 4,
 "nbformat_minor": 5
}
