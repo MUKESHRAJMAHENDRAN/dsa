{
 "cells": [
  {
   "cell_type": "markdown",
   "id": "ee5410f5-fb11-44d5-9cb1-daf42c25e9de",
   "metadata": {},
   "source": [
    "## Introduction to Arrays\n",
    "Array is one of the fundamental data structures and is used extensively in software development. Arrays provide a means of storing and organizing data in a systematic, computer-memory-efficient manner.\n",
    "\n",
    "Essentially, an array is a collection of elements, each identified by an array index. The array elements are stored in contiguous memory locations, meaning they are stored in a sequence."
   ]
  },
  {
   "cell_type": "markdown",
   "id": "2aa3ceaf-54a3-4065-a136-17ef6522ed7b",
   "metadata": {},
   "source": [
    "![\"Array\"](images/array.svg)"
   ]
  },
  {
   "cell_type": "markdown",
   "id": "9d9d705a-7162-4794-97b3-362ac92bb20a",
   "metadata": {},
   "source": [
    "## Problem 1: Running Sum of 1d Array (easy)\n",
    "\n",
    "**Problem Statement**\n",
    "Given a one-dimensional array of integers, create a new array that represents the running sum of the original array.\n",
    "\n",
    "The running sum at position i in the new array is calculated as the sum of all the numbers in the original array from the 0th index up to the i-th index (inclusive). Formally, the resulting array should be computed as follows: result[i] = sum(nums[0] + nums[1] + ... + nums[i]) for each i from 0 to the length of the array minus one."
   ]
  },
  {
   "cell_type": "markdown",
   "id": "9b9c1a45-822c-4cea-9095-6c10689f13dc",
   "metadata": {},
   "source": [
    "Example 1\n",
    "\n",
    "Input: [2, 3, 5, 1, 6]\n",
    "Expected Output: [2, 5, 10, 11, 17]\n",
    "Justification:\n",
    "For i=0: 2\n",
    "For i=1: 2 + 3 = 5\n",
    "For i=2: 2 + 3 + 5 = 10\n",
    "For i=3: 2 + 3 + 5 + 1 = 11\n",
    "For i=4: 2 + 3 + 5 + 1 + 6 = 17\n",
    "\n",
    "Example 2\n",
    "\n",
    "Input: [1, 1, 1, 1, 1]\n",
    "Expected Output: [1, 2, 3, 4, 5]\n",
    "Justification: Each element is simply the sum of all preceding elements plus the current element.\n",
    "Example 3\n",
    "\n",
    "Input: [-1, 2, -3, 4, -5]\n",
    "Expected Output: [-1, 1, -2, 2, -3]\n",
    "Justification: Negative numbers are also summed up in the same manner as positive ones."
   ]
  },
  {
   "cell_type": "markdown",
   "id": "059859de-8313-4c86-a76a-903d1a7bb741",
   "metadata": {},
   "source": [
    "**Solution**  \n",
    "To find a solution of this problem, we can employ a straightforward approach. Starting from the first element of the input array, we can traverse through each element, cumulatively summing up the values as we proceed and placing the running total at the corresponding index in the resulting array."
   ]
  },
  {
   "cell_type": "markdown",
   "id": "6ff843ce-69aa-4208-a5f5-4ac754c477b5",
   "metadata": {},
   "source": [
    "![Array_1](images/array_1.svg)"
   ]
  },
  {
   "cell_type": "markdown",
   "id": "0ae29a05-c94f-4881-830b-43044dc1549f",
   "metadata": {},
   "source": [
    "Initially, the first element of the output array is the same as the input array since there are no preceding elements to add. From the second element onwards, every element in the output array is the sum of the current input element and the previous element in the output array. This is because the previous element in the output array already contains the cumulative sum of all the previous elements in the input array.\n",
    "\n",
    "Here is the algorithm broken down into steps:\n",
    "\n",
    "1.\tInitialize a Variable for Running Sum: Start by setting a variable (let's call it runningSum) to 0. This variable will keep track of the cumulative sum as you iterate through the array.\n",
    "\n",
    "2.\tIterate Through the Array: Loop through each element of the array. You can use a standard for loop for this purpose.\n",
    "\n",
    "3.\tUpdate Running Sum: In each iteration, add the current element's value to runningSum. This step updates the running total with the value of the current element.\n",
    "\n",
    "4.\tReplace Current Element: After updating the runningSum, replace the current element in the array with the value of runningSum. This effectively changes each element to the sum of all preceding elements including itself.\n",
    "\n",
    "5.\tContinue Until the End of the Array: Continue steps 3 and 4 for each element in the array. By the end of the loop, each array element will have been replaced with the cumulative sum up to that point.\n",
    "\n",
    "6.\tReturn the Modified Array: After completing the iteration through the array, return the modified array. This array now contains the running sums instead of the original values.\n",
    "\n",
    "7.\tThis approach guarantees that we traverse through the input array only once, summing up the elements as we go along and avoiding recalculating any previously computed sums. Thus, it is computationally efficient while also being memory-efficient, as we don't store intermediate results in additional data structures.\n"
   ]
  },
  {
   "cell_type": "markdown",
   "id": "2e30398c-a079-4756-8626-09fa997c4d33",
   "metadata": {},
   "source": [
    "**Algorithm Walkthrough**  \n",
    "Let’s consider an example input array [2, 3, 5, 1, 6] to understand how the algorithm works:\n",
    "\n",
    "Initialize the resulting array with the same length as the input array. Let's say result[].\n",
    "Set result[0] equal to nums[0] since the first element does not have any previous elements to add. So, result = [2, _, _, _, _]\n",
    "For i from 1 to len(nums)-1:\n",
    "Set result[i] = result[i-1] + nums[i]. \n",
    "\n",
    "1.\tFor i=1: result[1] = result[0] + nums[1] = 2 + 3 = 5 so result = [2, 5, _, _, _]\n",
    "2.\tFor i=2: result[2] = result[1] + nums[2] = 5 + 5 = 10 so result = [2, 5, 10, _, _]\n",
    "3.\tFor i=3: result[3] = result[2] + nums[3] = 10 + 1 = 11 so result = [2, 5, 10, 11, _]\n",
    "4.\tFor i=4: result[4] = result[3] + nums[4] = 11 + 6 = 17 so result = [2, 5, 10, 11, 17]\n",
    "\n",
    "Return the result array [2, 5, 10, 11, 17]"
   ]
  },
  {
   "cell_type": "code",
   "execution_count": 1,
   "id": "078cadfd-5794-47ae-9fd6-af2b86706f2a",
   "metadata": {},
   "outputs": [
    {
     "name": "stdout",
     "output_type": "stream",
     "text": [
      "[2, 5, 10, 11, 17]\n",
      "[1, 2, 3, 4, 5]\n",
      "[-1, 1, -2, 2, -3]\n"
     ]
    }
   ],
   "source": [
    "class Solution:\n",
    "    def runningSum(self, nums):\n",
    "        # Create a list to store the running sum\n",
    "        result = [0] * len(nums)  # Initialize a list of the same length as nums filled with zeros\n",
    "        result[0] = nums[0]  # First element is the same as the first element in nums\n",
    "        \n",
    "        # Iterate over the elements of nums starting from the second element\n",
    "        for i in range(1, len(nums)):\n",
    "            # Calculate the running sum by adding the current number to the previous sum\n",
    "            result[i] = result[i-1] + nums[i]\n",
    "        \n",
    "        return result\n",
    "    \n",
    "# Test the algorithm with example inputs\n",
    "solution = Solution()\n",
    "print(solution.runningSum([2, 3, 5, 1, 6]))  # Output: [2, 5, 10, 11, 17]\n",
    "print(solution.runningSum([1, 1, 1, 1, 1]))  # Output: [1, 2, 3, 4, 5]\n",
    "print(solution.runningSum([-1, 2, -3, 4, -5]))  # Output: [-1, 1, -2, 2, -3]"
   ]
  },
  {
   "cell_type": "markdown",
   "id": "fbf67da7-0d8e-48c6-8bf7-3f88cb289fa6",
   "metadata": {},
   "source": [
    "Certainly! Here's the content formatted in Markdown:\n",
    "\n",
    "Time Complexity: \n",
    "- The algorithm essentially involves a single loop that iterates through the input array to compute the running sum. Here's the breakdown:\n",
    "  - **O(n)**: We iterate through all \\( n \\) elements of the input array exactly once. Inside the loop, we perform a constant amount of work (a sum and an assignment). Hence, the time complexity is linear.\n",
    "\n",
    "Space Complexity: \n",
    "- The algorithm uses a constant amount of extra space. The result array does not count towards the space complexity since it's the expected output. However, no additional data structures grow with the input size, meaning that the algorithm uses a constant amount of additional memory.\n",
    "  - **O(1)**: The algorithm's space complexity is constant.\n",
    "\n",
    "In summary:\n",
    "\n",
    "- **Time Complexity:** \\( O(n) \\)\n",
    "- **Space Complexity:** \\( O(1) \\)\n",
    "\n",
    "The algorithm is quite efficient, as it computes the running sum in a single pass through the input and does not use additional memory that grows with input size. This means it can handle large input arrays effectively, provided they can be stored in memory."
   ]
  },
  {
   "cell_type": "markdown",
   "id": "715c83cb-6cf3-4385-9e98-51151c6e3533",
   "metadata": {},
   "source": [
    "## Problem 2: Contains Duplicate (easy)"
   ]
  },
  {
   "cell_type": "markdown",
   "id": "929833d0-5659-456d-b998-d8b008b1b2ee",
   "metadata": {},
   "source": [
    "Given an integer array nums, return true if any value appears at least twice in the array, and return false if every element is distinct.\n",
    "\n",
    " \n",
    "\n",
    "Example 1:\n",
    "\n",
    "Input: nums = [1,2,3,1]\n",
    "Output: true\n",
    "Example 2:\n",
    "\n",
    "Input: nums = [1,2,3,4]\n",
    "Output: false\n",
    "Example 3:\n",
    "\n",
    "Input: nums = [1,1,1,3,3,4,3,2,4,2]\n",
    "Output: true\n",
    " \n",
    "\n",
    "Constraints:\n",
    "\n",
    "1 <= nums.length <= 105\n",
    "-109 <= nums[i] <= 109"
   ]
  },
  {
   "cell_type": "markdown",
   "id": "cb6f79d3-2172-439d-b193-cbe7ad11981d",
   "metadata": {},
   "source": [
    "**Solution**  \n",
    "*Approach 1: Brute Force*\n",
    "\n",
    "We can use a brute force approach and compare each element with all other elements in the array. If any two elements are the same, we'll return true. If we've gone through the entire array and haven't found any duplicates, we'll return false.\n"
   ]
  },
  {
   "cell_type": "markdown",
   "id": "5eb2d4ea-0579-49ec-9f76-81002c04ef73",
   "metadata": {},
   "source": [
    "![\"Bruteforce\"](images/contain_duplicate_1.svg)"
   ]
  },
  {
   "cell_type": "code",
   "execution_count": 2,
   "id": "92d627d8-5d7c-4b4f-8bf1-a937e7c2c8ef",
   "metadata": {},
   "outputs": [
    {
     "name": "stdout",
     "output_type": "stream",
     "text": [
      "False\n",
      "True\n",
      "False\n",
      "True\n"
     ]
    }
   ],
   "source": [
    "class Solution:\n",
    "  def containsDuplicate(self, nums) -> bool:\n",
    "    # Loop through each element in the list\n",
    "    for i in range(len(nums)):\n",
    "      # Loop through elements after the current element\n",
    "      for j in range(i + 1, len(nums)):\n",
    "        # Check if any two elements are the same\n",
    "        if nums[i] == nums[j]: # If any two elements are the same, return True\n",
    "          return True\n",
    "    # If no duplicates are found after looping through the entire list, return False\n",
    "    return False\n",
    "\n",
    "if __name__ == '__main__':\n",
    "  sol = Solution()\n",
    "  nums1 = [1, 2, 3, 4]\n",
    "  print(sol.containsDuplicate(nums1)) # Expected output: False\n",
    "\n",
    "  nums2 = [1, 2, 3, 1]\n",
    "  print(sol.containsDuplicate(nums2)) # Expected output: True\n",
    "\n",
    "  nums3 = []\n",
    "  print(sol.containsDuplicate(nums3)) # Expected output: False\n",
    "\n",
    "  nums4 = [1, 1, 1, 1]\n",
    "  print(sol.containsDuplicate(nums4)) # Expected output: True\n"
   ]
  },
  {
   "cell_type": "markdown",
   "id": "ae10448e-fefb-4a63-a2dd-54c581810dba",
   "metadata": {},
   "source": [
    "**Time Complexity**\n",
    "The algorithm takes \\( O(n^2) \\) time, where \\( n \\) is the number of elements in the input array. This is because we need to compare each element with all other elements, which takes \\( O(n) \\) time.\n",
    "\n",
    "**Space Complexity**\n",
    "The algorithm takes \\( O(1) \\) space, because we only need a few variables to store the indices, which takes constant space.\n",
    "\n",
    "---\n",
    "\n",
    "## Approach 2: Using Hash Set\n",
    "\n",
    "We can use the set data structure to check for duplicates in an array.\n",
    "\n",
    "- A set named `unique_set` is created to store unique elements.\n",
    "- The algorithm then iterates through the input array `nums`.\n",
    "- For each element \"x\" in the array, the algorithm checks if \"x\" is already in the `unique_set`.\n",
    "  - If \"x\" is in the `unique_set`, then the algorithm returns `True`, indicating that a duplicate has been found.\n",
    "  - If \"x\" is not in the `unique_set`, then the algorithm adds \"x\" to the `unique_set`.\n",
    "- The iteration continues until all elements in the array have been processed.\n",
    "- If no duplicates are found, the algorithm returns `False`.\n",
    "\n",
    "This approach utilizes the property of sets to store only unique elements, making it an efficient solution for finding duplicates in an array."
   ]
  },
  {
   "cell_type": "code",
   "execution_count": 3,
   "id": "2d9555e8-f783-4833-a782-0ea4a4e73320",
   "metadata": {},
   "outputs": [
    {
     "name": "stdout",
     "output_type": "stream",
     "text": [
      "False\n",
      "True\n",
      "False\n",
      "True\n"
     ]
    }
   ],
   "source": [
    "class Solution:\n",
    "  def contains_duplicate(self, nums):\n",
    "    unique_set = set() # Use set to store unique elements\n",
    "    \n",
    "    for x in nums:\n",
    "      if x in unique_set: # If the set already contains the current element, return True\n",
    "        return True\n",
    "      unique_set.add(x) # Add the current element to the set\n",
    "\n",
    "    return False # Return False if no duplicates found\n",
    "\n",
    "if __name__ == '__main__':\n",
    "  sol = Solution()\n",
    "  nums1 = [1, 2, 3, 4]\n",
    "  print(sol.contains_duplicate(nums1)) # Expected output: False\n",
    "\n",
    "  nums2 = [1, 2, 3, 1]\n",
    "  print(sol.contains_duplicate(nums2)) # Expected output: True\n",
    "\n",
    "  nums3 = []\n",
    "  print(sol.contains_duplicate(nums3)) # Expected output: False\n",
    "\n",
    "  nums4 = [1, 1, 1, 1]\n",
    "  print(sol.contains_duplicate(nums4)) # Expected output: True\n"
   ]
  },
  {
   "cell_type": "markdown",
   "id": "511fdb32-b6f8-4467-9e3d-07af4333d35b",
   "metadata": {},
   "source": [
    "**Time Complexity**  \n",
    "- **For Loop:** The loop iterates through each element of the array `nums`.\n",
    "- **Set Operations:** \n",
    "  - `set.contains(x)` or `x in unique_set`: Average time complexity for checking if an element is in a Set is O(1), assuming good hash distribution.\n",
    "  - `set.add(x)`: Adding an element to a Set also has an average time complexity of O(1).\n",
    "  - `set.count(x)`: Similarly, `set.count(x)` also has an average time complexity of O(1).\n",
    "  \n",
    "Since all Set operations are O(1) on average and are executed once per element of the array, the dominant factor is the number of elements `n` in the array. The loop runs `n` times, and in each iteration, an O(1) operation is performed.\n",
    "\n",
    "Thus, the overall time complexity of the function is **O(n)**, where `n` is the number of elements in the input array `nums`. This complexity assumes that the hash functions used are efficient and the elements are well-distributed in the hash table, avoiding worst-case scenarios of hash collisions. In the worst case, the time complexity would be **O(n^2)** because the Set operations can take O(n) time in the worst case.\n",
    "\n",
    "**Space Complexity**  \n",
    "The algorithm takes **O(n)** space, as it stores the numbers in a set."
   ]
  },
  {
   "cell_type": "markdown",
   "id": "25567b24-ab67-4290-bc4f-15bec7863900",
   "metadata": {},
   "source": [
    "## Approach 3: Using Hash table\n",
    "\n",
    "Certainly! Here's the time and space complexity analysis along with an algorithm walkthrough in markdown format:\n",
    "\n",
    "**Algorithm Walkthrough**\n",
    "1. Initialize an empty dictionary to store encountered elements.\n",
    "2. Iterate through each element in the list.\n",
    "3. For each element:\n",
    "   - If the element is already in the dictionary, return `True`, indicating a duplicate.\n",
    "   - Otherwise, add the element to the dictionary.\n",
    "4. If no duplicates are found after iterating through the entire list, return `False`.\n",
    "\n"
   ]
  },
  {
   "cell_type": "code",
   "execution_count": 5,
   "id": "8613c935-b0a6-48eb-8d27-5c821b28298f",
   "metadata": {},
   "outputs": [
    {
     "name": "stdout",
     "output_type": "stream",
     "text": [
      "False\n",
      "True\n",
      "False\n",
      "True\n"
     ]
    }
   ],
   "source": [
    "class Solution:\n",
    "    def containsDuplicate(self, nums) -> bool:\n",
    "        # Initialize an empty dictionary to store encountered elements\n",
    "        seen = {}\n",
    "        \n",
    "        # Iterate through each element in the list\n",
    "        for num in nums:\n",
    "            # If the element is already in the dictionary, it's a duplicate\n",
    "            if num in seen:\n",
    "                return True\n",
    "            # Otherwise, add the element to the dictionary\n",
    "            seen[num] = True\n",
    "        \n",
    "        # If no duplicates are found after iterating through the entire list, return False\n",
    "        return False\n",
    "\n",
    "if __name__ == '__main__':\n",
    "    sol = Solution()\n",
    "    nums1 = [1, 2, 3, 4]\n",
    "    print(sol.containsDuplicate(nums1)) # Expected output: False\n",
    "\n",
    "    nums2 = [1, 2, 3, 1]\n",
    "    print(sol.containsDuplicate(nums2)) # Expected output: True\n",
    "\n",
    "    nums3 = []\n",
    "    print(sol.containsDuplicate(nums3)) # Expected output: False\n",
    "\n",
    "    nums4 = [1, 1, 1, 1]\n",
    "    print(sol.containsDuplicate(nums4)) # Expected output: True"
   ]
  },
  {
   "cell_type": "markdown",
   "id": "b2041636-e93f-4bff-9283-af98a946b3dc",
   "metadata": {},
   "source": [
    "**Time Complexity**\n",
    "- **Iteration:** The loop iterates through each element of the array `nums`, which takes O(n) time, where `n` is the number of elements in `nums`.\n",
    "- **Dictionary Operations:**\n",
    "  - Checking if an element is in the dictionary (`if num in seen`) and adding an element to the dictionary (`seen[num] = True`) both have an average time complexity of O(1).\n",
    "  - Since these operations are executed once per element of the array, the dominant factor is the number of elements `n` in the array.\n",
    "  - Thus, the overall time complexity of the function is O(n).\n",
    "\n",
    "**Space Complexity**\n",
    "- The algorithm uses a dictionary (`seen`) to store encountered elements.\n",
    "- In the worst-case scenario, where there are no duplicates, the dictionary will store all `n` elements of the input array.\n",
    "- Therefore, the space complexity of the algorithm is O(n), where `n` is the number of elements in the input array `nums`.\n",
    "\n",
    "This analysis assumes that the hash table operations are efficient and the hash function used provides good distribution, ensuring that average-case time complexities hold."
   ]
  },
  {
   "cell_type": "code",
   "execution_count": null,
   "id": "79e87def-0ff2-417c-b2d5-5532c592bf0c",
   "metadata": {},
   "outputs": [],
   "source": []
  }
 ],
 "metadata": {
  "kernelspec": {
   "display_name": "Python 3 (ipykernel)",
   "language": "python",
   "name": "python3"
  },
  "language_info": {
   "codemirror_mode": {
    "name": "ipython",
    "version": 3
   },
   "file_extension": ".py",
   "mimetype": "text/x-python",
   "name": "python",
   "nbconvert_exporter": "python",
   "pygments_lexer": "ipython3",
   "version": "3.11.7"
  },
  "widgets": {
   "application/vnd.jupyter.widget-state+json": {
    "state": {},
    "version_major": 2,
    "version_minor": 0
   }
  }
 },
 "nbformat": 4,
 "nbformat_minor": 5
}
