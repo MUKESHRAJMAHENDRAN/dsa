{
 "cells": [
  {
   "cell_type": "markdown",
   "id": "eea801cf-839e-40e5-99ff-63194c55992c",
   "metadata": {},
   "source": [
    "## Understanding Data Structures\n",
    "Data structures are the building blocks of programming. Without them, we couldn't structure, store, or handle data efficiently.\n",
    "\n",
    "*In simplest terms, a data structure is a way of storing data so that it can be used efficiently.*"
   ]
  },
  {
   "cell_type": "markdown",
   "id": "d9eaf956-4727-4bc5-ac72-3c9760a30b56",
   "metadata": {},
   "source": [
    "![\"types\"](images/types.svg)"
   ]
  },
  {
   "cell_type": "markdown",
   "id": "35e5af2d-a745-4d51-a67f-48d96010bfe2",
   "metadata": {},
   "source": [
    "## An Overview of Big-O\n",
    "Big-O notation is a mathematical notation that is used to describe the performance or complexity of an algorithm, specifically how long an algorithm takes to run as the input size grows. Understanding Big-O notation is essential for software engineers, as it allows them to analyze and compare the efficiency of different algorithms and make informed decisions about which one to use in a given situation. In this guide, we will cover the basics of Big-O notation and how to use it to analyze the performance of algorithms"
   ]
  },
  {
   "cell_type": "markdown",
   "id": "b142bc04-f22c-4250-b64c-aa2346082afc",
   "metadata": {},
   "source": [
    "**What is Big-O?**\n",
    "\n",
    "Big-O notation is a way of expressing the time (or space) complexity of an algorithm. It provides a rough estimate of how long an algorithm takes to run (or how much memory it uses), based on the size of the input. For example, an algorithm with a time complexity of O(n) means that the running time increases linearly with the size of the input."
   ]
  },
  {
   "cell_type": "markdown",
   "id": "2f7f6746-40b3-4a3e-bcb7-9720c528c12b",
   "metadata": {},
   "source": [
    "**What is time complexity?**\n",
    "\n",
    "Time complexity is a measure of how long an algorithm takes to run, based on the size of the input. It is expressed using Big-O notation, which provides a rough estimate of the running time. An algorithm with a lower time complexity will generally be faster than an algorithm with a higher time complexity.\n",
    "\n",
    "**What is space complexity?**\n",
    "\n",
    "Space complexity is a measure of how much memory an algorithm requires, based on the size of the input. Like time complexity, it is expressed using Big-O notation. An algorithm with a lower space complexity will generally require less memory than an algorithm with a higher space complexity."
   ]
  },
  {
   "cell_type": "markdown",
   "id": "165c7ee8-c408-4d16-9047-db3bea606cc0",
   "metadata": {},
   "source": [
    "**Examples of time complexity**\n",
    "1. O(1): Constant time complexity. Regardless of the input size, the algorithm's runtime remains constant. It's like saying no matter how long the journey, it always takes the same amount of time to reach your destination.\n",
    "    \n",
    "1. O(n): Linear time complexity. The runtime grows linearly with the input size. If you have n items in your input, the algorithm will take roughly n steps. Imagine it as traveling a distance where every mile takes the same amount of time.\n",
    "    \n",
    "1. O(n^2): Quadratic time complexity. The runtime grows proportionally to the square of the input size. If you double the input size, the runtime quadruples. Think of it as a journey where each mile doubles the time taken due to obstacles or detours.\n",
    "    \n",
    "1. O(log n): Logarithmic time complexity. The runtime increases logarithmically with the input size. Even with a massive input size, the runtime grows slowly. It's like traversing a road where each mile marker signifies a smaller increase in travel time.\n",
    "    \n",
    "1. O(2^n): Exponential time complexity. The runtime grows exponentially with the input size. Doubling the input size dramatically increases the runtime. It's akin to navigating through a maze where every choice leads to an exponentially increasing number of possible paths, drastically slowing down progress."
   ]
  },
  {
   "cell_type": "markdown",
   "id": "0a3be095-779e-4fba-9247-45c6e3544b07",
   "metadata": {},
   "source": [
    "![Big_O](images/big_o.webp)"
   ]
  },
  {
   "cell_type": "markdown",
   "id": "ce4f61d5-0bca-4b73-88a6-c3c33fb93eb1",
   "metadata": {},
   "source": [
    "+ Absolutely, Big-O notation serves as a standardized way to express the upper bound of an algorithm's running time, enabling comparisons irrespective of hardware or implementation details.\n",
    "\n",
    "+ It's crucial to understand that Big-O notation provides an upper limit on the running time, meaning an algorithm with a time complexity of \\( O(f(n)) \\) could potentially perform better than one with a time complexity of \\( O(g(n)) \\) in certain scenarios, depending on implementation and hardware.\n",
    "\n",
    "+ Furthermore, Big-O notation simplifies the analysis by focusing solely on the dominant term in the running time equation. For instance, an algorithm with a running time of \\( O(n^2 + n) \\) would be simplified to \\( O(n^2) \\), as the quadratic term dominates the growth rate."
   ]
  },
  {
   "cell_type": "markdown",
   "id": "1ffb67e0-ac0c-429f-8d84-b766add31e4d",
   "metadata": {},
   "source": [
    "![chart](images/big_o_chart.png)"
   ]
  },
  {
   "cell_type": "code",
   "execution_count": null,
   "id": "7d5dd8da-9354-4a86-90cc-fe7d7ac8cdb4",
   "metadata": {},
   "outputs": [],
   "source": []
  }
 ],
 "metadata": {
  "kernelspec": {
   "display_name": "Python 3 (ipykernel)",
   "language": "python",
   "name": "python3"
  },
  "language_info": {
   "codemirror_mode": {
    "name": "ipython",
    "version": 3
   },
   "file_extension": ".py",
   "mimetype": "text/x-python",
   "name": "python",
   "nbconvert_exporter": "python",
   "pygments_lexer": "ipython3",
   "version": "3.11.7"
  },
  "widgets": {
   "application/vnd.jupyter.widget-state+json": {
    "state": {},
    "version_major": 2,
    "version_minor": 0
   }
  }
 },
 "nbformat": 4,
 "nbformat_minor": 5
}
