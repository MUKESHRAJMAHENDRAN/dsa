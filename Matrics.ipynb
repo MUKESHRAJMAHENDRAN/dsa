{
 "cells": [
  {
   "cell_type": "markdown",
   "id": "6ab24f7c-64e5-4414-abe0-3095dff30b7b",
   "metadata": {},
   "source": [
    "## Problem 1: Richest Customer Wealth (easy)"
   ]
  },
  {
   "cell_type": "markdown",
   "id": "601ed404-8360-4450-93ca-9ee1287401b3",
   "metadata": {},
   "source": [
    "**Problem Statement**\n",
    "\n",
    "You are given an *m x n* matrix `accounts` where `accounts[i][j]` is the amount of money the *i-th* customer has in the *j-th* bank.\n",
    "\n",
    "Return the wealth that the richest customer has.\n",
    "\n",
    "Imagine every customer has multiple bank accounts, with each account holding a certain amount of money. The total wealth of a customer is calculated by summing all the money across all their multiple accounts.\n",
    "\n",
    "**Examples**\n",
    "\n",
    "*Example 1:*\n",
    "\n",
    "Input: `[[5,2,3],[0,6,7]]`\n",
    "\n",
    "Expected Output: `13`\n",
    "\n",
    "Justification: The total wealth of the first customer is 10 and of the second customer is 13. So, the output is 13 as it's the maximum among all customers.\n",
    "\n",
    "*Example 2:*\n",
    "\n",
    "Input: `[[1,2],[3,4],[5,6]]`\n",
    "\n",
    "Expected Output: `11`\n",
    "\n",
    "Justification: Total wealth for each customer is [3, 7, 11]. Maximum of these is 11.\n",
    "\n",
    "*Example 3:*\n",
    "\n",
    "Input: `[[10,100],[200,20],[30,300]]`\n",
    "\n",
    "Expected Output: `330`\n",
    "\n",
    "Justification: Total wealth for each customer is [110, 220, 330]. The wealthiest customer has 330.\n",
    "\n",
    "**Constraints**\n",
    "\n",
    "- *m == accounts.length*\n",
    "- *n == accounts[i].length*\n",
    "- *1 <= m, n <= 50*\n",
    "- *1 <= accounts[i][j] <= 100*\n",
    "\n",
    "**Solution**\n",
    "\n",
    "The algorithm aims to traverse each customer's accounts, compute their total wealth by summing up the balances, and track the wealthiest customer found so far. We utilize a straightforward iterative method, whereby we loop through each customer and their respective accounts, calculating the sum of each customer's accounts, and then making a comparison against a stored maximum wealth variable. If the current customer's total wealth surpasses our stored maximum, we update our stored value. Upon completion of the iteration through all customers, our stored maximum wealth value represents the wealth of the richest customer. Simplicity and a single-pass solution make this algorithm appealing, ensuring computational efficiency by avoiding nested loops and minimizing computational steps where possible.\n",
    "\n",
    "**Detailed Steps:**\n",
    "\n",
    "1. Initialize a variable `maxWealth` to store and track the maximum wealth found during the iteration. Set its initial value to 0 as we will use it for comparison.\n",
    "\n",
    "2. Iterate through the 2D-array of accounts using a loop. Each sub-array represents one customer's accounts.\n",
    "\n",
    "3. For each customer, calculate their total wealth by summing up all the values in their respective sub-array. Utilize another loop or a `sum` function for this.\n",
    "\n",
    "4. Compare the computed sum of the current customer with `maxWealth`. If it’s greater, update `maxWealth` with the new value.\n",
    "\n",
    "5. Repeat steps 3-4 for all customers in the array.\n",
    "\n",
    "6. Once the iteration is complete, `maxWealth` holds the maximum wealth among all customers. Return this value as the output.\n",
    "\n",
    "**Algorithm Walkthrough**\n",
    "\n",
    "Let’s illustrate the algorithm using a simple example with an input array `[[5,10,15],[10,20,30],[15,30,45]]`:\n",
    "\n",
    "- Initialize `maxWealth` to 0: This will store the maximum wealth we find as we traverse through the accounts.\n",
    "\n",
    "`maxWealth = 0`\n",
    "\n",
    "- Iterating through the customer arrays:\n",
    "  - First customer: `[5,10,15]`\n",
    "    - Calculate total wealth: 5 + 10 + 15 = 30\n",
    "    - Compare and update `maxWealth`: `maxWealth` (0) < 30 => Update `maxWealth` to 30\n",
    "  - Second customer: `[10,20,30]`\n",
    "    - Calculate total wealth: 10 + 20 + 30 = 60\n",
    "    - Compare and update `maxWealth`: `maxWealth` (30) < 60 => Update `maxWealth` to 60\n",
    "  - Third customer: `[15,30,45]`\n",
    "    - Calculate total wealth: 15 + 30 + 45 = 90\n",
    "    - Compare and update `maxWealth`: `maxWealth` (60) < 90 => Update `maxWealth` to 90\n",
    "\n",
    "Conclusion: The final value of `maxWealth` is 90, which represents the richest customer's wealth. So, 90 is returned as the output.\n",
    "\n",
    "This approach guarantees we evaluate the total wealth of each customer and always maintain the wealthiest customer's wealth encountered thus far in our `maxWealth` variable, ensuring we find the correct answer by the end of our iterations."
   ]
  },
  {
   "cell_type": "markdown",
   "id": "f9fd6a83-108c-4ccd-8f2f-1c7342971db6",
   "metadata": {},
   "source": [
    "![\"Rich_customer\"](images/rich_customer.svg)"
   ]
  },
  {
   "cell_type": "code",
   "execution_count": 2,
   "id": "d972d8b2-6a2e-4ed4-ada1-a0971a57ea60",
   "metadata": {},
   "outputs": [
    {
     "name": "stdout",
     "output_type": "stream",
     "text": [
      "13\n",
      "11\n",
      "330\n"
     ]
    }
   ],
   "source": [
    "class Solution:\n",
    "    def maximumWealth(self, accounts):\n",
    "        # Initialize max_wealth to 0\n",
    "        max_wealth = 0\n",
    "        \n",
    "        # Loop through each customer's accounts\n",
    "        for customer in accounts:\n",
    "            # Sum up the customer's wealth using the sum function\n",
    "            wealth = sum(customer)\n",
    "            \n",
    "            # Update max_wealth if the current customer's wealth is greater\n",
    "            if wealth > max_wealth:\n",
    "                max_wealth = wealth\n",
    "        \n",
    "        # Return the maximum wealth found\n",
    "        return max_wealth\n",
    "\n",
    "# Example test cases\n",
    "sol = Solution()\n",
    "print(sol.maximumWealth([[5,2,3],[0,6,7]]))  # 13\n",
    "print(sol.maximumWealth([[1,2],[3,4],[5,6]]))  # 11\n",
    "print(sol.maximumWealth([[10,100],[200,20],[30,300]]))  # 330\n"
   ]
  },
  {
   "cell_type": "markdown",
   "id": "0186c50f-e365-4cd3-9a42-53552e739c21",
   "metadata": {},
   "source": [
    "**Time Complexity**: O(n*m)\n",
    "\n",
    "The algorithm traverses through all the customers and their respective accounts once. If *n* represents the number of customers and *m* represents the maximum number of accounts (i.e., length of sub-arrays), in the worst-case scenario, the algorithm would need to perform O(nm) operations. Iterating through each customer is an O(n) operation, and calculating the sum of their wealth by iterating through each of their *m* accounts makes the inner operation O(m). Together, this results in a time complexity of O(n*m).\n",
    "\n",
    "**Space Complexity**: O(1)\n",
    "\n",
    "The algorithm only utilizes a constant amount of extra space, which is not dependent on the input size. Specifically, it uses two additional variables: `maxWealth` and `wealth`, to keep track of the maximum wealth found so far and the wealth of the current customer, respectively. Since these variables are used for storing scalar values and their quantity does not grow with the input, the space complexity is O(1).\n"
   ]
  },
  {
   "cell_type": "markdown",
   "id": "338d3c19-6d9c-4645-a115-511288d23f7a",
   "metadata": {},
   "source": [
    "## Problem 2: Matrix Diagonal Sum (easy)"
   ]
  },
  {
   "cell_type": "markdown",
   "id": "bd446867-5fcb-418d-b385-8b8cb7cf2efe",
   "metadata": {},
   "source": [
    "**Problem Statement**\n",
    "\n",
    "Given a square matrix (2D array), calculate the sum of its two diagonals.\n",
    "\n",
    "The two diagonals in consideration are the primary diagonal that spans from the top-left to the bottom-right and the secondary diagonal that spans from top-right to bottom-left. If a number is part of both diagonals (which occurs only for odd-sized matrices), it should be counted only once in the sum.\n",
    "\n",
    "**Examples**\n",
    "\n",
    "*Example 1:*\n",
    "\n",
    "Input:\n",
    "```\n",
    "[[1,2,3],\n",
    " [4,5,6],\n",
    " [7,8,9]]\n",
    "```\n",
    "\n",
    "Expected Output: `25`\n",
    "\n",
    "Justification: Summing up the two diagonals (1+5+9+3+7), we get 25. Please note that the element at [1][1] = 5 is counted only once.\n",
    "\n",
    "*Example 2:*\n",
    "\n",
    "Input:\n",
    "```\n",
    "[[1,0],\n",
    " [0,1]]\n",
    "```\n",
    "\n",
    "Expected Output: `2`\n",
    "\n",
    "Justification: The sum of the two diagonals is 1+1 = 2.\n",
    "\n",
    "*Example 3:*\n",
    "\n",
    "Input:\n",
    "```\n",
    "[[5]]\n",
    "```\n",
    "\n",
    "Expected Output: `5`\n",
    "\n",
    "Justification: Since there's only one element, it is the sum itself.\n",
    "\n",
    "**Constraints**\n",
    "\n",
    "- *n == mat.length == mat[i].length*\n",
    "- *1 <= n <= 100*\n",
    "- *1 <= mat[i][j] <= 100*\n",
    "\n",
    "**Solution**\n",
    "\n",
    "The primary algorithmic approach for this problem is straightforward yet efficient, involving a single loop traversal through the matrix, accumulating the sum of the diagonal elements as it progresses. This approach is effective in that it avoids unnecessary calculations or traversals through the matrix, adhering strictly to the diagonal indices to retrieve the values to be summed. The main mechanism involves identifying and summing the elements of the primary and secondary diagonal, ensuring that, if the matrix size is odd, the central element (which belongs to both diagonals) is not double-counted.\n",
    "\n",
    "Here's the algorithm for calculating the diagonal sum of a matrix, broken down into steps:\n",
    "\n",
    "1. **Initialize Sum**: Start by initializing a variable to store the sum of the diagonal elements. Let's call this variable `diagonalSum`.\n",
    "\n",
    "2. **Loop Through Matrix**: Iterate through the matrix using a loop. Since the matrix is square, you can use a single index to traverse both rows and columns. Let's use `i` as the loop variable, ranging from 0 to the length of the matrix minus one.\n",
    "\n",
    "3. **Add Primary Diagonal Elements**: In each iteration, add the element at the primary diagonal to `diagonalSum`. The primary diagonal elements are those where the row and column indices are equal, i.e., `matrix[i][i]`.\n",
    "\n",
    "4. **Add Secondary Diagonal Elements**: In the same iteration, add the element at the secondary diagonal to `diagonalSum`. The secondary diagonal elements are those where the column index is the complement of the row index, i.e., `matrix[i][matrix.length - 1 - i]`.\n",
    "\n",
    "5. **Avoid Double Counting**: If the matrix has an odd number of rows and columns, the central element will be counted twice (once for each diagonal). To correct this, subtract the central element from `diagonalSum`. The central element is at the position `matrix[middle][middle]`, where `middle = matrix.length / 2`.\n",
    "\n",
    "6. **Return the Result**: After completing the loop, return the value of `diagonalSum`. This is the sum of the elements on both diagonals of the matrix.\n",
    "\n",
    "**Algorithm Walkthrough**\n",
    "\n",
    "Consider an input matrix:\n",
    "\n",
    "```\n",
    "[[1,2,3],\n",
    " [4,5,6],\n",
    " [7,8,9]]\n",
    "```\n",
    "\n",
    "- Initialize `totalSum` to 0.\n",
    "- Loop `i` from 0 to `n-1` (inclusive). Where `n` is the size of the matrix (3 in this example).\n",
    "- Add `mat[i][i]` and `mat[i][n-i-1]` to `totalSum`.\n",
    "- For `i=0`, add 1+3 to `totalSum` => `totalSum = 4`.\n",
    "- For `i=1`, add 5+5 to `totalSum` => `totalSum = 14`.\n",
    "- For `i=2`, add 9+7 to `totalSum` => `totalSum = 30`.\n",
    "- Since `n` is odd, subtract the central element `mat[n/2][n/2]` (which is 5) from `totalSum` to correct for double-counting => `totalSum = 25`.\n",
    "- Return `totalSum` which is 25.\n"
   ]
  },
  {
   "cell_type": "markdown",
   "id": "ebda0afe-a554-44fb-8e36-b1e2ba160881",
   "metadata": {},
   "source": [
    "![\"Diagonal_sum\"](images/diagonal_sum.svg)"
   ]
  },
  {
   "cell_type": "code",
   "execution_count": 4,
   "id": "80caf999-3bf3-46b5-83e2-bd91e93d6ec1",
   "metadata": {},
   "outputs": [
    {
     "name": "stdout",
     "output_type": "stream",
     "text": [
      "25\n",
      "2\n",
      "5\n"
     ]
    }
   ],
   "source": [
    "class Solution:\n",
    "    def diagonalSum(self, mat):\n",
    "        n = len(mat)  # Get the size of the matrix\n",
    "        total_sum = 0  # Initialize the total sum\n",
    "        \n",
    "        # Loop through each row\n",
    "        for i in range(n):\n",
    "            # Add primary and secondary diagonal elements\n",
    "            total_sum += mat[i][i] + mat[i][n-i-1]  \n",
    "        \n",
    "        # If n is odd, subtract the central element\n",
    "        if n % 2 != 0:\n",
    "            total_sum -= mat[n//2][n//2]\n",
    "        return total_sum  # Return the calculated total sum\n",
    "    \n",
    "# Test the examples\n",
    "sol = Solution()\n",
    "print(sol.diagonalSum([[1,2,3],[4,5,6],[7,8,9]]))  # Output: 25\n",
    "print(sol.diagonalSum([[1,0],[0,1]]))  # Output: 2\n",
    "print(sol.diagonalSum([[5]]))  # Output: 5"
   ]
  },
  {
   "cell_type": "markdown",
   "id": "043a0590-8a97-46cb-875b-6c34882a0438",
   "metadata": {},
   "source": [
    "**Time Complexity**\n",
    "\n",
    "*O(n)*: We traverse through each row of the matrix exactly once to get the elements for our diagonal sums, where *n* is the number of rows (or columns, since it's a square matrix). We do constant time work for each element (just addition and assignment).\n",
    "\n",
    "Hence, the overall time complexity of the algorithm is *O(n)*.\n",
    "\n",
    "**Space Complexity**\n",
    "\n",
    "*O(1)*: The space complexity is constant because we are using a fixed amount of additional space. Our algorithm only uses two integer variables (*n* and *totalSum*) besides the input, which doesn’t grow with the size of the input matrix. Therefore, the amount of extra space utilized doesn't scale with the size of the input.\n",
    "\n",
    "So, the overall space complexity of the algorithm is *O(1)*"
   ]
  },
  {
   "cell_type": "markdown",
   "id": "65fff1ba-393c-480e-a556-0da6407ee727",
   "metadata": {},
   "source": [
    "## Problem 3: Row With Maximum Ones(easy)\n"
   ]
  },
  {
   "cell_type": "markdown",
   "id": "98fb8a5e-24fd-42ad-8e69-6fec93179547",
   "metadata": {},
   "source": [
    "## Problem Statement\n",
    "Given a binary matrix that has dimensions `m * n`, consisting of ones and zeros. Determine the row that contains the highest number of ones and return two values: the zero-based index of this row and the actual count of ones it possesses.\n",
    "\n",
    "### Examples\n",
    "**Example 1:**\n",
    "Input: `[[1, 0], [1, 1], [0, 1]]`\n",
    "Expected Output: `[1, 2]`\n",
    "Justification: The second row `[1, 1]` contains the most ones, so the output is `[1, 2]`.\n",
    "\n",
    "**Example 2:**\n",
    "Input: `[[0, 1, 1], [0, 1, 1], [1, 1, 1]]`\n",
    "Expected Output: `[2, 3]`\n",
    "Justification: The third row `[1, 1, 1]` has the most ones, leading to the output `[2, 3]`.\n",
    "\n",
    "**Example 3:**\n",
    "Input: `[[1, 0, 1], [0, 0, 1], [1, 1, 0]]`\n",
    "Expected Output: `[0, 2]`\n",
    "Justification: Both the first and third rows contain two ones, but we choose the first due to its lower index, resulting in `[0, 2]`.\n",
    "\n",
    "### Constraints\n",
    "- `m == mat.length`\n",
    "- `n == mat[i].length`\n",
    "- `1 <= m, n <= 100`\n",
    "- `mat[i][j]` is either 0 or 1.\n",
    "\n",
    "## Solution\n",
    "The fundamental task is to identify the row with the maximum number of ones and simultaneously track the number of ones in this row.\n",
    "\n",
    "### Solution Overview\n",
    "To solve this problem, we will systematically examine each row of a given binary matrix to identify the row with the highest number of 1s. The solution involves iterating over each row, counting the 1s present, and comparing this count with the highest number of 1s recorded so far. We maintain two variables: one for the highest count of 1s encountered, and another for the index of the row where this occurred. This method ensures we check every element in the matrix precisely once, leading to an efficient approach in determining the row that contains the maximum number of 1s.\n",
    "\n",
    "### Algorithm Walkthrough\n",
    "Given the input `[[1, 0, 1], [0, 0, 1], [1, 1, 0]]`:\n",
    "\n",
    "1. Initialize `maxOnesIdx` to 0 and `maxOnesCount` to 0.\n",
    "2. Loop through each row:\n",
    "   - Row 0 `[1, 0, 1]`: Count of ones = 2. It is greater than `maxOnesCount` so update `maxOnesIdx` to 0 and `maxOnesCount` to 2.\n",
    "   - Row 1 `[0, 0, 1]`: Count of ones = 1. It is not greater than `maxOnesCount`, no update occurs.\n",
    "   - Row 2 `[1, 1, 0]`: Count of ones = 2. It is equal to `maxOnesCount`, so no update occurs to maintain the smallest index.\n",
    "3. Return `[maxOnesIdx, maxOnesCount]` which yields `[0, 2]`."
   ]
  },
  {
   "cell_type": "markdown",
   "id": "4300ed17-5338-454c-b1c3-37af5d355956",
   "metadata": {},
   "source": [
    "![\"Row_one\"](images/row_min_one.svg)"
   ]
  },
  {
   "cell_type": "code",
   "execution_count": 7,
   "id": "2ac9260a-0cd8-4709-8a4a-7ceb41b6a893",
   "metadata": {},
   "outputs": [
    {
     "name": "stdout",
     "output_type": "stream",
     "text": [
      "[1, 2]\n"
     ]
    }
   ],
   "source": [
    "class Solution:\n",
    "    def findMaxOnesRow(self, mat):\n",
    "        maxOnesIdx, maxOnesCount = 0, 0  # Initialize tracking variables\n",
    "        for i, row in enumerate(mat):  # Traverse through rows\n",
    "            onesCount = sum(row)  # Count ones in the current row\n",
    "            # Check and update tracking variables if needed\n",
    "            if onesCount > maxOnesCount:  \n",
    "                maxOnesIdx, maxOnesCount = i, onesCount  # Update if the current row has more ones\n",
    "        return [maxOnesIdx, maxOnesCount]  # Return the index of the row with the most ones and the count of ones\n",
    "\n",
    "# Testing\n",
    "sol = Solution()\n",
    "# Applying example inputs\n",
    "print(sol.findMaxOnesRow([[1, 0], [1, 1], [0, 1]]))  # Output: [1\n"
   ]
  },
  {
   "cell_type": "markdown",
   "id": "82e279a3-36d0-4854-98d9-27444cfd88e2",
   "metadata": {},
   "source": [
    "### Time Complexity\n",
    "- We iterate through each row of the matrix to find the sum of ones in that row. If there are `m` rows and `n` columns, this operation takes `O(m*n)` time.\n",
    "- We are also keeping track of the maximum count of ones and its corresponding row index while iterating through the matrix, which takes `O(1)` time for each row.\n",
    "- Therefore, the overall time complexity of the algorithm is `O(m*n)`.\n",
    "\n",
    "### Space Complexity\n",
    "- We are using only a constant amount of extra space to store the maximum count of ones and its corresponding row index.\n",
    "- The input matrix is given by the problem, and we are not using any additional space that grows with the input.\n",
    "- Thus, the space complexity of the algorithm is `O(1)`"
   ]
  },
  {
   "cell_type": "code",
   "execution_count": null,
   "id": "4921b1a9-2ea1-4b20-b175-293bdaf8f503",
   "metadata": {},
   "outputs": [],
   "source": []
  }
 ],
 "metadata": {
  "kernelspec": {
   "display_name": "Python 3 (ipykernel)",
   "language": "python",
   "name": "python3"
  },
  "language_info": {
   "codemirror_mode": {
    "name": "ipython",
    "version": 3
   },
   "file_extension": ".py",
   "mimetype": "text/x-python",
   "name": "python",
   "nbconvert_exporter": "python",
   "pygments_lexer": "ipython3",
   "version": "3.11.7"
  },
  "widgets": {
   "application/vnd.jupyter.widget-state+json": {
    "state": {},
    "version_major": 2,
    "version_minor": 0
   }
  }
 },
 "nbformat": 4,
 "nbformat_minor": 5
}
